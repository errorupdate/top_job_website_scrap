{
 "cells": [
  {
   "cell_type": "code",
   "execution_count": 8,
   "metadata": {},
   "outputs": [
    {
     "name": "stdout",
     "output_type": "stream",
     "text": [
      "Your name is uttam\n"
     ]
    }
   ],
   "source": [
    "name = input(\"Give me your  name: \")\n",
    "print(\"Your name is \" + name)"
   ]
  },
  {
   "cell_type": "code",
   "execution_count": 26,
   "metadata": {},
   "outputs": [
    {
     "name": "stdout",
     "output_type": "stream",
     "text": [
      "Your age is 70\n",
      "can see a rated R movie\n"
     ]
    }
   ],
   "source": [
    "# age = input(\"Enter your age: \")\n",
    "# age = int(age)\n",
    "age = int(input(\"Enter your age: \"))\n",
    "print(\"Your age is \"+str(age))\n",
    "if age > 17:\n",
    "    print(\"can see a rated R movie\")\n",
    "elif age < 17 and age > 12:\n",
    "    print(\"can see a rate PG-13  movie\")\n",
    "else:\n",
    "    print(\"can only see rated PG movies\")"
   ]
  },
  {
   "cell_type": "code",
   "execution_count": 19,
   "metadata": {},
   "outputs": [
    {
     "name": "stdout",
     "output_type": "stream",
     "text": [
      "Werewolf\n",
      "Doorman\n",
      "4chan\n",
      "4chan\n",
      "test test test test \n"
     ]
    }
   ],
   "source": [
    "print(\"Were\" + \"wolf\")\n",
    "print(\"Door\" + \"man\")\n",
    "print(\"4\" + \"chan\")\n",
    "print(str(4)+\"chan\")\n",
    "print(4*\"test \")"
   ]
  },
  {
   "cell_type": "code",
   "execution_count": 27,
   "metadata": {},
   "outputs": [
    {
     "name": "stdout",
     "output_type": "stream",
     "text": [
      "2\n",
      "0\n",
      "1\n"
     ]
    }
   ],
   "source": [
    "print(5 % 3)\n",
    "print(6 % 3)\n",
    "print(7 % 3)"
   ]
  },
  {
   "cell_type": "code",
   "execution_count": 29,
   "metadata": {},
   "outputs": [
    {
     "name": "stdout",
     "output_type": "stream",
     "text": [
      "the variable does not have the value 3\n"
     ]
    }
   ],
   "source": [
    "# // declear int varible in python ?\n",
    "a = int\n",
    "if a == 3:\n",
    "    print(\"the variable has the value 3\")\n",
    "else:\n",
    "    print(\"the variable does not have the value 3\")"
   ]
  },
  {
   "cell_type": "markdown",
   "metadata": {},
   "source": [
    "List\n"
   ]
  },
  {
   "cell_type": "code",
   "execution_count": 33,
   "metadata": {},
   "outputs": [
    {
     "name": "stdout",
     "output_type": "stream",
     "text": [
      "[3, 4, 5]\n"
     ]
    }
   ],
   "source": [
    "x = []\n",
    "x.append(3)\n",
    "x.append(4)\n",
    "x.append(5)\n",
    "print(x)"
   ]
  },
  {
   "cell_type": "code",
   "execution_count": 35,
   "metadata": {},
   "outputs": [
    {
     "name": "stdout",
     "output_type": "stream",
     "text": [
      "1\n",
      "3\n",
      "Michele\n",
      "[5, 6, 7]\n"
     ]
    }
   ],
   "source": [
    "my_list = [1, 3, \"Michele\", [5, 6, 7]]\n",
    "for element in my_list:\n",
    "    print(element)"
   ]
  },
  {
   "cell_type": "code",
   "execution_count": 39,
   "metadata": {},
   "outputs": [
    {
     "name": "stdout",
     "output_type": "stream",
     "text": [
      "D\n"
     ]
    }
   ],
   "source": [
    "grade = int(input(\"Enter your grade: \"))\n",
    "if grade >= 90:\n",
    "    print(\"A\")\n",
    "elif grade >= 80:\n",
    "    print(\"B\")\n",
    "elif grade >= 70:\n",
    "    print(\"C\")\n",
    "elif grade >= 65:\n",
    "    print(\"D\")\n",
    "else:\n",
    "    print(\"F\")"
   ]
  },
  {
   "cell_type": "code",
   "execution_count": 41,
   "metadata": {},
   "outputs": [
    {
     "name": "stdout",
     "output_type": "stream",
     "text": [
      "2\n",
      "3\n",
      "4\n",
      "5\n",
      "6\n",
      "7\n",
      "8\n",
      "9\n",
      "10\n"
     ]
    }
   ],
   "source": [
    "x = int\n",
    "x = range(2, 11)\n",
    "for elem in x:\n",
    "    print(elem)"
   ]
  },
  {
   "cell_type": "code",
   "execution_count": 45,
   "metadata": {},
   "outputs": [
    {
     "name": "stdout",
     "output_type": "stream",
     "text": [
      "[1, 2, 5, 7, 10, 14, 35, 70]\n"
     ]
    }
   ],
   "source": [
    "x = int(input(\"Num: \"))\n",
    "y = []\n",
    "for num in list(range(1, x+1)):\n",
    "    if x % num == 0:\n",
    "        y.append(num)\n",
    "print(y)\n",
    "# print(count.(y))"
   ]
  },
  {
   "cell_type": "code",
   "execution_count": 48,
   "metadata": {},
   "outputs": [
    {
     "name": "stdout",
     "output_type": "stream",
     "text": [
      "[1, 1, 2, 3, 5, 8, 13, 21, 34, 55, 89]\n",
      "[1, 2, 3, 4, 5, 6, 7, 8, 9, 10, 11, 12, 13]\n",
      "[1, 2, 3, 5, 8, 13]\n"
     ]
    }
   ],
   "source": [
    "a = [1, 1, 2, 3, 5, 8, 13, 21, 34, 55, 89]\n",
    "b = [1, 2, 3, 4, 5, 6, 7, 8, 9, 10, 11, 12, 13]\n",
    "c = []\n",
    "print(a)\n",
    "print(b)\n",
    "for x in a:\n",
    "    for y in b:\n",
    "        if x == y not in c:\n",
    "            c.append(x)\n",
    "print(c)"
   ]
  },
  {
   "cell_type": "code",
   "execution_count": 49,
   "metadata": {},
   "outputs": [
    {
     "name": "stdout",
     "output_type": "stream",
     "text": [
      "Palindrome\n"
     ]
    }
   ],
   "source": [
    "name = input(\"Enter a string: \")\n",
    "string = name.lower()\n",
    "original = []\n",
    "reverse = []\n",
    "for i in range(0, len(string)):\n",
    "    original.append(string[i])\n",
    "for i in range(1, len(string)+1):\n",
    "    reverse.append(string[-i])\n",
    "if original == reverse:\n",
    "    print(\"Palindrome\")\n",
    "else:\n",
    "    print(\"Not Palindrome\")"
   ]
  },
  {
   "cell_type": "code",
   "execution_count": 67,
   "metadata": {},
   "outputs": [
    {
     "name": "stdout",
     "output_type": "stream",
     "text": [
      "[4, 16, 36, 64, 100]\n"
     ]
    }
   ],
   "source": [
    "a = [1, 4, 9, 16, 25, 36, 49, 64, 81, 100]\n",
    "c = [ ]\n",
    "\n",
    "for x in a:\n",
    "     if x % 2 ==0:\n",
    "       c.append(x)\n",
    "\n",
    "print(c)"
   ]
  },
  {
   "cell_type": "code",
   "execution_count": 102,
   "metadata": {},
   "outputs": [
    {
     "name": "stdout",
     "output_type": "stream",
     "text": [
      "[36, 82, 68, 49, 95]\n",
      "6\n"
     ]
    }
   ],
   "source": [
    "import random\n",
    "a = random.randint(1,9)\n",
    "b = random.sample(range(100),5)\n",
    "print(b);\n",
    "print(a);"
   ]
  },
  {
   "cell_type": "code",
   "execution_count": 1,
   "metadata": {},
   "outputs": [
    {
     "name": "stdout",
     "output_type": "stream",
     "text": [
      "You are over the age of 15\n",
      "You are in grade 34\n"
     ]
    }
   ],
   "source": [
    "def get_integer(help_text=\"Give me a number: \"):\n",
    "    return int(input(help_text))\n",
    "age = get_integer(\"Tell me your age: \")\n",
    "school_year = get_integer(\"What grade are you in : \")\n",
    "if age>15:\n",
    "    print(\"You are over the age of 15\")\n",
    "print(\"You are in grade \"+str(school_year))"
   ]
  },
  {
   "cell_type": "code",
   "execution_count": null,
   "metadata": {},
   "outputs": [],
   "source": []
  },
  {
   "cell_type": "code",
   "execution_count": null,
   "metadata": {},
   "outputs": [],
   "source": []
  }
 ],
 "metadata": {
  "kernelspec": {
   "display_name": "Python 3",
   "language": "python",
   "name": "python3"
  },
  "language_info": {
   "codemirror_mode": {
    "name": "ipython",
    "version": 3
   },
   "file_extension": ".py",
   "mimetype": "text/x-python",
   "name": "python",
   "nbconvert_exporter": "python",
   "pygments_lexer": "ipython3",
   "version": "3.9.6"
  },
  "orig_nbformat": 4
 },
 "nbformat": 4,
 "nbformat_minor": 2
}
